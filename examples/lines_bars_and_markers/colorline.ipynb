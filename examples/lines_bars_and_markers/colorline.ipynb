{
 "metadata": {
  "name": ""
 },
 "nbformat": 3,
 "nbformat_minor": 0,
 "worksheets": [
  {
   "cells": [
    {
     "cell_type": "heading",
     "level": 1,
     "metadata": {},
     "source": [
      "Examples of plotting (multi-)colored lines"
     ]
    },
    {
     "cell_type": "markdown",
     "metadata": {},
     "source": [
      "Plotting multi-colored lines may be achieved using `LineCollection`.\n",
      "These examples use a more simple interface by introducing a function `colorline`."
     ]
    },
    {
     "cell_type": "code",
     "collapsed": false,
     "input": [
      "#%pylab inline\n",
      "# %config InlineBackend.figure_format = 'retina'  # Use for retina display resolution"
     ],
     "language": "python",
     "metadata": {},
     "outputs": []
    },
    {
     "cell_type": "code",
     "collapsed": false,
     "input": [
      "# Different styling for graphs (requires separate mpltools package)\n",
      "# from mpltools import style\n",
      "# style.use(\"ggplot\")"
     ],
     "language": "python",
     "metadata": {},
     "outputs": []
    },
    {
     "cell_type": "heading",
     "level": 2,
     "metadata": {},
     "source": [
      "Function definitions"
     ]
    },
    {
     "cell_type": "code",
     "collapsed": false,
     "input": [
      "# Topics: line, color, LineCollection, cmap, colorline, codex\n",
      "'''\n",
      "Defines a function colorline that draws a (multi-)colored 2D line with coordinates x and y.\n",
      "The color is taken from optional data in z, and creates a LineCollection.\n",
      "\n",
      "z can be:\n",
      "- empty, in which case a default coloring will be used based on the position along the input arrays\n",
      "- a single number, for a uniform color [this can also be accomplished with the usual plt.plot]\n",
      "- an array of the length of at least the same length as x, to color according to this data\n",
      "- an array of a smaller length, in which case the colors are repeated along the curve\n",
      "\n",
      "The function colorline returns the LineCollection created, which can be modified afterwards.\n",
      "\n",
      "See also: plt.streamplot\n",
      "'''\n",
      "\n",
      "import numpy as np\n",
      "import matplotlib.pyplot as plt\n",
      "from matplotlib.collections import LineCollection\n",
      "from matplotlib.colors import ListedColormap, BoundaryNorm\n",
      "\n",
      "\n",
      "# Data manipulation:\n",
      "\n",
      "def make_segments(x, y):\n",
      "    '''\n",
      "    Create list of line segments from x and y coordinates, in the correct format for LineCollection:\n",
      "    an array of the form   numlines x (points per line) x 2 (x and y) array\n",
      "    '''\n",
      "\n",
      "    points = np.array([x, y]).T.reshape(-1, 1, 2)\n",
      "    segments = np.concatenate([points[:-1], points[1:]], axis=1)\n",
      "    \n",
      "    return segments\n",
      "\n",
      "\n",
      "# Interface to LineCollection:\n",
      "\n",
      "def colorline(x, y, z=None, cmap=plt.get_cmap('copper'), norm=plt.Normalize(0.0, 1.0), linewidth=3, alpha=1.0):\n",
      "    '''\n",
      "    Plot a colored line with coordinates x and y\n",
      "    Optionally specify colors in the array z\n",
      "    Optionally specify a colormap, a norm function and a line width\n",
      "    '''\n",
      "    \n",
      "    # Default colors equally spaced on [0,1]:\n",
      "    if z is None:\n",
      "        z = np.linspace(0.0, 1.0, len(x))\n",
      "           \n",
      "    # Special case if a single number:\n",
      "    if not hasattr(z, \"__iter__\"):  # to check for numerical input -- this is a hack\n",
      "        z = np.array([z])\n",
      "        \n",
      "    z = np.asarray(z)\n",
      "    \n",
      "    segments = make_segments(x, y)\n",
      "    lc = LineCollection(segments, array=z, cmap=cmap, norm=norm, linewidth=linewidth, alpha=alpha)\n",
      "    \n",
      "    ax = plt.gca()\n",
      "    ax.add_collection(lc)\n",
      "    \n",
      "    return lc\n",
      "        \n",
      "    \n",
      "def clear_frame(ax=None): \n",
      "    # Taken from a post by Tony S Yu\n",
      "    if ax is None: \n",
      "        ax = plt.gca() \n",
      "    ax.xaxis.set_visible(False) \n",
      "    ax.yaxis.set_visible(False) \n",
      "    for spine in ax.spines.itervalues(): \n",
      "        spine.set_visible(False) "
     ],
     "language": "python",
     "metadata": {},
     "outputs": []
    },
    {
     "cell_type": "heading",
     "level": 2,
     "metadata": {},
     "source": [
      "Example 1: Sine wave colored by time (uses the defaults for colorline)"
     ]
    },
    {
     "cell_type": "code",
     "collapsed": false,
     "input": [
      "# Sine wave colored by time\n",
      "\n",
      "x = np.linspace(0, 4.*np.pi, 1000)\n",
      "y = np.sin(x)\n",
      "\n",
      "fig, axes = plt.subplots()\n",
      "\n",
      "colorline(x, y)\n",
      "\n",
      "plt.xlim(x.min(), x.max())\n",
      "plt.ylim(-1.0, 1.0)\n",
      "plt.show()"
     ],
     "language": "python",
     "metadata": {},
     "outputs": []
    },
    {
     "cell_type": "heading",
     "level": 2,
     "metadata": {},
     "source": [
      "Example 2: Different colors for shifted sine waves"
     ]
    },
    {
     "cell_type": "code",
     "collapsed": false,
     "input": [
      "# Shifting a sine wave: Example modified from mpltools by Tony S Yu\n",
      "\n",
      "x = np.linspace(0, 4.*np.pi, 1000)\n",
      "y = np.sin(x)\n",
      "\n",
      "fig, axes = plt.subplots()\n",
      "\n",
      "N = 10\n",
      "for i in xrange(N):\n",
      "    color = i / float(N)\n",
      "    shift = 0.2 * i\n",
      "    colorline(x-shift, y, color, cmap=\"cool\")\n",
      "    \n",
      "plt.xlim(x.min(), x.max())\n",
      "plt.ylim(-1.0, 1.0)\n",
      "plt.show()  "
     ],
     "language": "python",
     "metadata": {},
     "outputs": []
    },
    {
     "cell_type": "heading",
     "level": 2,
     "metadata": {},
     "source": [
      "Example 3: A polar function, plotted with a custom colored dash style"
     ]
    },
    {
     "cell_type": "code",
     "collapsed": false,
     "input": [
      "# Polar function:\n",
      "\n",
      "max_t = 6*np.pi\n",
      "theta = np.linspace(0, max_t, 1000)\n",
      "\n",
      "alpha = 0.3\n",
      "r = 1 + alpha*np.sin(7./3. * theta)\n",
      "\n",
      "x = r * np.sin(theta)\n",
      "y = r * np.cos(theta)\n",
      "\n",
      "colored_dashes = [0.1]*8 + [0.5]*4 + [0.8]*2  # uses Python list syntax\n",
      "\n",
      "fig, axes = plt.subplots(figsize=(6,6))\n",
      "\n",
      "colorline(x, y, colored_dashes, cmap='jet', linewidth=8) #, [0.3]*8+[0.4]*4+[0.5]*2)\n",
      "\n",
      "plt.xlim(x.min() - 0.1, x.max() + 0.1)\n",
      "plt.ylim(y.min() - 0.1, y.max() + 0.1)\n",
      "\n",
      "plt.axis('equal')\n",
      "clear_frame()\n",
      "plt.show()"
     ],
     "language": "python",
     "metadata": {},
     "outputs": []
    },
    {
     "cell_type": "heading",
     "level": 2,
     "metadata": {},
     "source": [
      "Example 4: A non-periodic Lissajous curve, colored with a continuous palette and different line widths"
     ]
    },
    {
     "cell_type": "code",
     "collapsed": false,
     "input": [
      "# Non-periodic Lissajous curve\n",
      "\n",
      "max_t = 15.\n",
      "t = np.linspace(0, max_t, 5000)\n",
      "x = np.sin(t)\n",
      "y = np.sin(t * np.pi)\n",
      "\n",
      "fig, axes = plt.subplots(figsize=(6,6))\n",
      "\n",
      "lc = colorline(x, y, alpha=0.75, linewidth=t, cmap='coolwarm') \n",
      "# We can capture the LineCollection created to modify it later, e.g.:\n",
      "# lc.set_rasterized = False\n",
      "\n",
      "plt.xlim(x.min() - 0.1, x.max() + 0.1)\n",
      "plt.ylim(y.min() - 0.1, y.max() + 0.1)\n",
      "\n",
      "# plt.colorbar()  # Does not work at the moment!\n",
      "plt.show()"
     ],
     "language": "python",
     "metadata": {},
     "outputs": []
    },
    {
     "cell_type": "heading",
     "level": 2,
     "metadata": {},
     "source": [
      "Example 5: $\\sin(1/x)$, colored according to its derivative and plotted using logarithmic spacing"
     ]
    },
    {
     "cell_type": "code",
     "collapsed": false,
     "input": [
      "# sin(1/x), colored according to the value of its derivative\n",
      "\n",
      "# Use logarithmic spacing so that looks better:\n",
      "log_x = np.linspace(np.log(0.005), np.log(0.1), 5000)\n",
      "x = np.exp(log_x)\n",
      "\n",
      "y = 0.9 * np.sin(1. / x)\n",
      "\n",
      "# Use finite differences to calculate the derivative of y:\n",
      "y_deriv = (y[1:] - y[:-1]) / (x[1:] - x[:-1]) \n",
      "\n",
      "# Create a colormap for red, green and blue:\n",
      "cmap = ListedColormap(['r', 'g', 'b'])\n",
      "\n",
      "# Create a 'norm' (normalizing function) which maps data values to the interval [0,1]:\n",
      "norm = BoundaryNorm([-1000, -200, 200, 1000], cmap.N)  # cmap.N is number of items in the colormap\n",
      "\n",
      "fig, axes = plt.subplots()\n",
      "\n",
      "colorline(x, y, y_deriv, cmap=cmap, norm=norm, linewidth=100.*x)\n",
      "# This works even though y_deriv is a different length -- wraps around\n",
      "\n",
      "plt.xlim(x.min(), x.max())\n",
      "plt.ylim(-1.0, 1.0)\n",
      "plt.show()"
     ],
     "language": "python",
     "metadata": {},
     "outputs": []
    }
   ],
   "metadata": {}
  }
 ]
}